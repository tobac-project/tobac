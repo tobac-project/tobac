{
 "cells": [
  {
   "cell_type": "markdown",
   "metadata": {},
   "source": [
    "tobac example: Compute bulk statistics during feature detection\n",
    "=== \n",
    "\n",
    "You can compute bulk statistics for features from the feature detection or the masked features from the segmentation mask. \n",
    "\n",
    "This example shows how to derive some basic statistics for precipitation features associated with isolated deep convective clouds using the same data as in [our example for precipitation tracking](https://github.com/tobac-project/tobac/blob/main/examples/Example_Precip_Tracking/Example_Precip_Tracking.ipynb). The data used in this example is downloaded from automatically as part of the notebook. "
   ]
  },
  {
   "cell_type": "code",
   "execution_count": 1,
   "metadata": {
    "execution": {
     "iopub.execute_input": "2024-03-22T17:18:35.329188Z",
     "iopub.status.busy": "2024-03-22T17:18:35.328690Z",
     "iopub.status.idle": "2024-03-22T17:18:36.372987Z",
     "shell.execute_reply": "2024-03-22T17:18:36.372118Z"
    }
   },
   "outputs": [],
   "source": [
    "# Import libraries\n",
    "import iris\n",
    "import numpy as np\n",
    "import pandas as pd\n",
    "import matplotlib.pyplot as plt\n",
    "import datetime\n",
    "import shutil\n",
    "from six.moves import urllib\n",
    "from pathlib import Path\n",
    "%matplotlib inline"
   ]
  },
  {
   "cell_type": "code",
   "execution_count": 2,
   "metadata": {
    "execution": {
     "iopub.execute_input": "2024-03-22T17:18:36.376438Z",
     "iopub.status.busy": "2024-03-22T17:18:36.376057Z",
     "iopub.status.idle": "2024-03-22T17:18:38.247466Z",
     "shell.execute_reply": "2024-03-22T17:18:38.239280Z"
    }
   },
   "outputs": [
    {
     "name": "stdout",
     "output_type": "stream",
     "text": [
      "using tobac version 1.5.3\n"
     ]
    }
   ],
   "source": [
    "# Import tobac itself\n",
    "import tobac\n",
    "print('using tobac version', str(tobac.__version__))"
   ]
  },
  {
   "cell_type": "code",
   "execution_count": 3,
   "metadata": {
    "execution": {
     "iopub.execute_input": "2024-03-22T17:18:38.285861Z",
     "iopub.status.busy": "2024-03-22T17:18:38.285093Z",
     "iopub.status.idle": "2024-03-22T17:18:38.294187Z",
     "shell.execute_reply": "2024-03-22T17:18:38.292554Z"
    }
   },
   "outputs": [],
   "source": [
    "# Disable a few warnings:\n",
    "import warnings\n",
    "warnings.filterwarnings('ignore', category=UserWarning, append=True)\n",
    "warnings.filterwarnings('ignore', category=RuntimeWarning, append=True)\n",
    "warnings.filterwarnings('ignore', category=FutureWarning, append=True)\n",
    "warnings.filterwarnings('ignore',category=pd.io.pytables.PerformanceWarning)"
   ]
  },
  {
   "cell_type": "markdown",
   "metadata": {},
   "source": [
    "**Download example data:**\n",
    "\n",
    "Actual download has to be performed only once for all example notebooks!"
   ]
  },
  {
   "cell_type": "code",
   "execution_count": 4,
   "metadata": {
    "execution": {
     "iopub.execute_input": "2024-03-22T17:18:38.322117Z",
     "iopub.status.busy": "2024-03-22T17:18:38.321283Z",
     "iopub.status.idle": "2024-03-22T17:18:38.331190Z",
     "shell.execute_reply": "2024-03-22T17:18:38.324702Z"
    }
   },
   "outputs": [],
   "source": [
    "data_out=Path('../')"
   ]
  },
  {
   "cell_type": "code",
   "execution_count": 5,
   "metadata": {
    "execution": {
     "iopub.execute_input": "2024-03-22T17:18:38.344343Z",
     "iopub.status.busy": "2024-03-22T17:18:38.344007Z",
     "iopub.status.idle": "2024-03-22T17:18:38.351035Z",
     "shell.execute_reply": "2024-03-22T17:18:38.349141Z"
    }
   },
   "outputs": [],
   "source": [
    "# Download the data: This only has to be done once for all tobac examples and can take a while\n",
    "data_file = list(data_out.rglob('data/Example_input_Precip.nc'))\n",
    "if len(data_file) == 0:\n",
    "    file_path='https://zenodo.org/records/3195910/files/climate-processes/tobac_example_data-v1.0.1.zip'\n",
    "    #file_path='http://zenodo..'\n",
    "    tempfile=Path('temp.zip')\n",
    "    print('start downloading data')\n",
    "    request=urllib.request.urlretrieve(file_path, tempfile)\n",
    "    print('start extracting data')\n",
    "    shutil.unpack_archive(tempfile, data_out)\n",
    "    tempfile.unlink()\n",
    "    print('data extracted')\n",
    "    data_file = list(data_out.rglob('data/Example_input_Precip.nc'))"
   ]
  },
  {
   "cell_type": "markdown",
   "metadata": {},
   "source": [
    "**Load Data from downloaded file:**"
   ]
  },
  {
   "cell_type": "code",
   "execution_count": 6,
   "metadata": {
    "execution": {
     "iopub.execute_input": "2024-03-22T17:18:38.370773Z",
     "iopub.status.busy": "2024-03-22T17:18:38.366590Z",
     "iopub.status.idle": "2024-03-22T17:18:38.505880Z",
     "shell.execute_reply": "2024-03-22T17:18:38.504723Z"
    }
   },
   "outputs": [],
   "source": [
    "Precip=iris.load_cube(str(data_file[0]),'surface_precipitation_average')"
   ]
  },
  {
   "cell_type": "code",
   "execution_count": 7,
   "metadata": {
    "execution": {
     "iopub.execute_input": "2024-03-22T17:18:38.525114Z",
     "iopub.status.busy": "2024-03-22T17:18:38.522164Z",
     "iopub.status.idle": "2024-03-22T17:18:38.564211Z",
     "shell.execute_reply": "2024-03-22T17:18:38.562792Z"
    }
   },
   "outputs": [
    {
     "data": {
      "text/html": [
       "\n",
       "<style>\n",
       "  a.iris {\n",
       "      text-decoration: none !important;\n",
       "  }\n",
       "  table.iris {\n",
       "      white-space: pre;\n",
       "      border: 1px solid;\n",
       "      border-color: #9c9c9c;\n",
       "      font-family: monaco, monospace;\n",
       "  }\n",
       "  th.iris {\n",
       "      background: #303f3f;\n",
       "      color: #e0e0e0;\n",
       "      border-left: 1px solid;\n",
       "      border-color: #9c9c9c;\n",
       "      font-size: 1.05em;\n",
       "      min-width: 50px;\n",
       "      max-width: 125px;\n",
       "  }\n",
       "  tr.iris :first-child {\n",
       "      border-right: 1px solid #9c9c9c !important;\n",
       "  }\n",
       "  td.iris-title {\n",
       "      background: #d5dcdf;\n",
       "      border-top: 1px solid #9c9c9c;\n",
       "      font-weight: bold;\n",
       "  }\n",
       "  .iris-word-cell {\n",
       "      text-align: left !important;\n",
       "      white-space: pre;\n",
       "  }\n",
       "  .iris-subheading-cell {\n",
       "      padding-left: 2em !important;\n",
       "  }\n",
       "  .iris-inclusion-cell {\n",
       "      padding-right: 1em !important;\n",
       "  }\n",
       "  .iris-panel-body {\n",
       "      padding-top: 0px;\n",
       "  }\n",
       "  .iris-panel-title {\n",
       "      padding-left: 3em;\n",
       "  }\n",
       "  .iris-panel-title {\n",
       "      margin-top: 7px;\n",
       "  }\n",
       "</style>\n",
       "<table class=\"iris\" id=\"5282387344\">\n",
       "    <tr class=\"iris\">\n",
       "<th class=\"iris iris-word-cell\">Surface Precipitation Average (mm h-1)</th>\n",
       "<th class=\"iris iris-word-cell\">time</th>\n",
       "<th class=\"iris iris-word-cell\">south_north</th>\n",
       "<th class=\"iris iris-word-cell\">west_east</th>\n",
       "</tr>\n",
       "    <tr class=\"iris\">\n",
       "<td class=\"iris-word-cell iris-subheading-cell\">Shape</td>\n",
       "<td class=\"iris iris-inclusion-cell\">47</td>\n",
       "<td class=\"iris iris-inclusion-cell\">198</td>\n",
       "<td class=\"iris iris-inclusion-cell\">198</td>\n",
       "</tr>\n",
       "    <tr class=\"iris\">\n",
       "    <td class=\"iris-title iris-word-cell\">Dimension coordinates</td>\n",
       "    <td class=\"iris-title\"></td>\n",
       "    <td class=\"iris-title\"></td>\n",
       "    <td class=\"iris-title\"></td>\n",
       "</tr>\n",
       "<tr class=\"iris\">\n",
       "    <td class=\"iris-word-cell iris-subheading-cell\">\ttime</td>\n",
       "    <td class=\"iris-inclusion-cell\">x</td>\n",
       "    <td class=\"iris-inclusion-cell\">-</td>\n",
       "    <td class=\"iris-inclusion-cell\">-</td>\n",
       "</tr>\n",
       "<tr class=\"iris\">\n",
       "    <td class=\"iris-word-cell iris-subheading-cell\">\tsouth_north</td>\n",
       "    <td class=\"iris-inclusion-cell\">-</td>\n",
       "    <td class=\"iris-inclusion-cell\">x</td>\n",
       "    <td class=\"iris-inclusion-cell\">-</td>\n",
       "</tr>\n",
       "<tr class=\"iris\">\n",
       "    <td class=\"iris-word-cell iris-subheading-cell\">\twest_east</td>\n",
       "    <td class=\"iris-inclusion-cell\">-</td>\n",
       "    <td class=\"iris-inclusion-cell\">-</td>\n",
       "    <td class=\"iris-inclusion-cell\">x</td>\n",
       "</tr>\n",
       "<tr class=\"iris\">\n",
       "    <td class=\"iris-title iris-word-cell\">Auxiliary coordinates</td>\n",
       "    <td class=\"iris-title\"></td>\n",
       "    <td class=\"iris-title\"></td>\n",
       "    <td class=\"iris-title\"></td>\n",
       "</tr>\n",
       "<tr class=\"iris\">\n",
       "    <td class=\"iris-word-cell iris-subheading-cell\">\tprojection_y_coordinate</td>\n",
       "    <td class=\"iris-inclusion-cell\">-</td>\n",
       "    <td class=\"iris-inclusion-cell\">x</td>\n",
       "    <td class=\"iris-inclusion-cell\">-</td>\n",
       "</tr>\n",
       "<tr class=\"iris\">\n",
       "    <td class=\"iris-word-cell iris-subheading-cell\">\ty</td>\n",
       "    <td class=\"iris-inclusion-cell\">-</td>\n",
       "    <td class=\"iris-inclusion-cell\">x</td>\n",
       "    <td class=\"iris-inclusion-cell\">-</td>\n",
       "</tr>\n",
       "<tr class=\"iris\">\n",
       "    <td class=\"iris-word-cell iris-subheading-cell\">\tlatitude</td>\n",
       "    <td class=\"iris-inclusion-cell\">-</td>\n",
       "    <td class=\"iris-inclusion-cell\">x</td>\n",
       "    <td class=\"iris-inclusion-cell\">x</td>\n",
       "</tr>\n",
       "<tr class=\"iris\">\n",
       "    <td class=\"iris-word-cell iris-subheading-cell\">\tlongitude</td>\n",
       "    <td class=\"iris-inclusion-cell\">-</td>\n",
       "    <td class=\"iris-inclusion-cell\">x</td>\n",
       "    <td class=\"iris-inclusion-cell\">x</td>\n",
       "</tr>\n",
       "<tr class=\"iris\">\n",
       "    <td class=\"iris-word-cell iris-subheading-cell\">\tprojection_x_coordinate</td>\n",
       "    <td class=\"iris-inclusion-cell\">-</td>\n",
       "    <td class=\"iris-inclusion-cell\">-</td>\n",
       "    <td class=\"iris-inclusion-cell\">x</td>\n",
       "</tr>\n",
       "<tr class=\"iris\">\n",
       "    <td class=\"iris-word-cell iris-subheading-cell\">\tx</td>\n",
       "    <td class=\"iris-inclusion-cell\">-</td>\n",
       "    <td class=\"iris-inclusion-cell\">-</td>\n",
       "    <td class=\"iris-inclusion-cell\">x</td>\n",
       "</tr>\n",
       "<tr class=\"iris\">\n",
       "    <td class=\"iris-title iris-word-cell\">Attributes</td>\n",
       "    <td class=\"iris-title\"></td>\n",
       "    <td class=\"iris-title\"></td>\n",
       "    <td class=\"iris-title\"></td>\n",
       "</tr>\n",
       "<tr class=\"iris\">\n",
       "    <td class=\"iris-word-cell iris-subheading-cell\">\tConventions</td>\n",
       "    <td class=\"iris-word-cell\" colspan=\"3\">&#x27;CF-1.5&#x27;</td>\n",
       "</tr>\n",
       "</table>\n",
       "        "
      ],
      "text/plain": [
       "<iris 'Cube' of surface_precipitation_average / (mm h-1) (time: 47; south_north: 198; west_east: 198)>"
      ]
     },
     "metadata": {},
     "output_type": "display_data"
    }
   ],
   "source": [
    "#display information about the iris cube containing the surface precipitation data:\n",
    "display(Precip)"
   ]
  },
  {
   "cell_type": "code",
   "execution_count": 8,
   "metadata": {
    "execution": {
     "iopub.execute_input": "2024-03-22T17:18:38.578722Z",
     "iopub.status.busy": "2024-03-22T17:18:38.575755Z",
     "iopub.status.idle": "2024-03-22T17:18:38.586793Z",
     "shell.execute_reply": "2024-03-22T17:18:38.584944Z"
    }
   },
   "outputs": [],
   "source": [
    "#Set up directory to save output:\n",
    "savedir=Path(\"Save\")\n",
    "if not savedir.is_dir():\n",
    "    savedir.mkdir()\n",
    "plot_dir=Path(\"Plot\")\n",
    "if not plot_dir.is_dir():\n",
    "    plot_dir.mkdir()"
   ]
  },
  {
   "cell_type": "markdown",
   "metadata": {},
   "source": [
    "**Feature detection with bulk statistics**\n",
    "\n",
    "Feature detection is perfomed based on surface precipitation field and a range of thresholds. \n",
    "The statistics are calculated for each individual feature region and added to the feature output dataframe. You can decide which statistics to calculate by providing a dictionary with the name of the metric as keys (this will be the name of the column added to the dataframe) and functions as values. Note that it is also possible to provide input parameter to these functions. "
   ]
  },
  {
   "cell_type": "markdown",
   "metadata": {},
   "source": [
    "#### Setting parameters for feature detection:"
   ]
  },
  {
   "cell_type": "code",
   "execution_count": 9,
   "metadata": {
    "execution": {
     "iopub.execute_input": "2024-03-22T17:18:38.608207Z",
     "iopub.status.busy": "2024-03-22T17:18:38.607420Z",
     "iopub.status.idle": "2024-03-22T17:18:38.618440Z",
     "shell.execute_reply": "2024-03-22T17:18:38.617527Z"
    }
   },
   "outputs": [],
   "source": [
    "parameters_features={}\n",
    "parameters_features['position_threshold']='weighted_diff'\n",
    "parameters_features['sigma_threshold']=0.5\n",
    "parameters_features['min_distance']=0\n",
    "parameters_features['sigma_threshold']=1\n",
    "parameters_features['threshold']=[1,2,3,4,5,10,15] #mm/h\n",
    "parameters_features['n_erosion_threshold']=0\n",
    "parameters_features['n_min_threshold']=3\n",
    "\n",
    "# get temporal and spation resolution of the data\n",
    "dxy,dt=tobac.get_spacings(Precip)"
   ]
  },
  {
   "cell_type": "markdown",
   "metadata": {
    "execution": {
     "iopub.execute_input": "2023-07-10T23:49:21.717102Z",
     "iopub.status.busy": "2023-07-10T23:49:21.716272Z",
     "iopub.status.idle": "2023-07-10T23:49:21.985540Z",
     "shell.execute_reply": "2023-07-10T23:49:21.984704Z"
    }
   },
   "source": [
    "#### Defining the dictionary for the statistics to be calculated "
   ]
  },
  {
   "cell_type": "code",
   "execution_count": 10,
   "metadata": {
    "execution": {
     "iopub.execute_input": "2024-03-22T17:18:38.635746Z",
     "iopub.status.busy": "2024-03-22T17:18:38.635394Z",
     "iopub.status.idle": "2024-03-22T17:18:38.642691Z",
     "shell.execute_reply": "2024-03-22T17:18:38.640392Z"
    }
   },
   "outputs": [],
   "source": [
    "statistics = {}\n",
    "statistics['mean_precip'] = np.mean\n",
    "statistics['total_precip'] = np.sum\n",
    "statistics['max_precip'] = np.max"
   ]
  },
  {
   "cell_type": "markdown",
   "metadata": {},
   "source": [
    "for some functions, we need to provide additional input parameters, e.g. [np.percentile()](https://numpy.org/doc/stable/reference/generated/numpy.percentile.html). These can be provided as key word arguments in form of a dictionary. So instead of the function, you can provide a tuple with both the function and its respective input parameters: \n"
   ]
  },
  {
   "cell_type": "code",
   "execution_count": 11,
   "metadata": {
    "execution": {
     "iopub.execute_input": "2024-03-22T17:18:38.665578Z",
     "iopub.status.busy": "2024-03-22T17:18:38.663868Z",
     "iopub.status.idle": "2024-03-22T17:18:38.672653Z",
     "shell.execute_reply": "2024-03-22T17:18:38.671135Z"
    }
   },
   "outputs": [],
   "source": [
    "statistics['percentiles'] = (np.percentile, {'q': [95,99]})"
   ]
  },
  {
   "cell_type": "code",
   "execution_count": 12,
   "metadata": {
    "execution": {
     "iopub.execute_input": "2024-03-22T17:18:38.691608Z",
     "iopub.status.busy": "2024-03-22T17:18:38.691219Z",
     "iopub.status.idle": "2024-03-22T17:18:56.451127Z",
     "shell.execute_reply": "2024-03-22T17:18:56.450419Z"
    }
   },
   "outputs": [
    {
     "name": "stdout",
     "output_type": "stream",
     "text": [
      "starting feature detection based on multiple thresholds\n"
     ]
    },
    {
     "name": "stdout",
     "output_type": "stream",
     "text": [
      "feature detection done\n"
     ]
    },
    {
     "name": "stdout",
     "output_type": "stream",
     "text": [
      "features saved\n"
     ]
    }
   ],
   "source": [
    "# Feature detection based on based on surface precipitation field and a range of thresholds\n",
    "print('starting feature detection based on multiple thresholds')\n",
    "Features= tobac.feature_detection_multithreshold(Precip,dxy,**parameters_features, statistic=statistics) \n",
    "print('feature detection done')\n",
    "Features.to_hdf(savedir / 'Features.h5','table')\n",
    "print('features saved')"
   ]
  },
  {
   "cell_type": "markdown",
   "metadata": {},
   "source": [
    "### Look at the output: "
   ]
  },
  {
   "cell_type": "code",
   "execution_count": 13,
   "metadata": {
    "execution": {
     "iopub.execute_input": "2024-03-22T17:18:56.455395Z",
     "iopub.status.busy": "2024-03-22T17:18:56.454610Z",
     "iopub.status.idle": "2024-03-22T17:18:56.477335Z",
     "shell.execute_reply": "2024-03-22T17:18:56.476369Z"
    }
   },
   "outputs": [
    {
     "data": {
      "text/html": [
       "<div>\n",
       "<style scoped>\n",
       "    .dataframe tbody tr th:only-of-type {\n",
       "        vertical-align: middle;\n",
       "    }\n",
       "\n",
       "    .dataframe tbody tr th {\n",
       "        vertical-align: top;\n",
       "    }\n",
       "\n",
       "    .dataframe thead th {\n",
       "        text-align: right;\n",
       "    }\n",
       "</style>\n",
       "<table border=\"1\" class=\"dataframe\">\n",
       "  <thead>\n",
       "    <tr style=\"text-align: right;\">\n",
       "      <th></th>\n",
       "      <th>frame</th>\n",
       "      <th>idx</th>\n",
       "      <th>hdim_1</th>\n",
       "      <th>hdim_2</th>\n",
       "      <th>num</th>\n",
       "      <th>threshold_value</th>\n",
       "      <th>mean_precip</th>\n",
       "      <th>total_precip</th>\n",
       "      <th>max_precip</th>\n",
       "      <th>percentiles</th>\n",
       "      <th>...</th>\n",
       "      <th>time</th>\n",
       "      <th>timestr</th>\n",
       "      <th>south_north</th>\n",
       "      <th>west_east</th>\n",
       "      <th>projection_y_coordinate</th>\n",
       "      <th>y</th>\n",
       "      <th>latitude</th>\n",
       "      <th>longitude</th>\n",
       "      <th>projection_x_coordinate</th>\n",
       "      <th>x</th>\n",
       "    </tr>\n",
       "  </thead>\n",
       "  <tbody>\n",
       "    <tr>\n",
       "      <th>0</th>\n",
       "      <td>0</td>\n",
       "      <td>1</td>\n",
       "      <td>50.065727</td>\n",
       "      <td>139.857477</td>\n",
       "      <td>9</td>\n",
       "      <td>1</td>\n",
       "      <td>1.241012</td>\n",
       "      <td>11.169106</td>\n",
       "      <td>1.528488</td>\n",
       "      <td>([1.4821563005447387, 1.5192213106155394],)</td>\n",
       "      <td>...</td>\n",
       "      <td>2013-06-19 20:05:00</td>\n",
       "      <td>2013-06-19 20:05:00</td>\n",
       "      <td>331.065727</td>\n",
       "      <td>420.857477</td>\n",
       "      <td>165782.863285</td>\n",
       "      <td>331.065727</td>\n",
       "      <td>29.846362</td>\n",
       "      <td>-94.172015</td>\n",
       "      <td>210678.738492</td>\n",
       "      <td>420.857477</td>\n",
       "    </tr>\n",
       "    <tr>\n",
       "      <th>1</th>\n",
       "      <td>0</td>\n",
       "      <td>15</td>\n",
       "      <td>120.527119</td>\n",
       "      <td>172.500325</td>\n",
       "      <td>4</td>\n",
       "      <td>1</td>\n",
       "      <td>1.25016</td>\n",
       "      <td>5.000638</td>\n",
       "      <td>1.267255</td>\n",
       "      <td>([1.266197031736374, 1.267043651342392],)</td>\n",
       "      <td>...</td>\n",
       "      <td>2013-06-19 20:05:00</td>\n",
       "      <td>2013-06-19 20:05:00</td>\n",
       "      <td>401.527119</td>\n",
       "      <td>453.500325</td>\n",
       "      <td>201013.559414</td>\n",
       "      <td>401.527119</td>\n",
       "      <td>30.166929</td>\n",
       "      <td>-93.996892</td>\n",
       "      <td>227000.162468</td>\n",
       "      <td>453.500325</td>\n",
       "    </tr>\n",
       "    <tr>\n",
       "      <th>2</th>\n",
       "      <td>0</td>\n",
       "      <td>18</td>\n",
       "      <td>126.779273</td>\n",
       "      <td>145.368401</td>\n",
       "      <td>15</td>\n",
       "      <td>1</td>\n",
       "      <td>1.564113</td>\n",
       "      <td>23.461691</td>\n",
       "      <td>2.321664</td>\n",
       "      <td>([2.268769121170044, 2.311084909439087],)</td>\n",
       "      <td>...</td>\n",
       "      <td>2013-06-19 20:05:00</td>\n",
       "      <td>2013-06-19 20:05:00</td>\n",
       "      <td>407.779273</td>\n",
       "      <td>426.368401</td>\n",
       "      <td>204139.636582</td>\n",
       "      <td>407.779273</td>\n",
       "      <td>30.196499</td>\n",
       "      <td>-94.139960</td>\n",
       "      <td>213434.200454</td>\n",
       "      <td>426.368401</td>\n",
       "    </tr>\n",
       "    <tr>\n",
       "      <th>3</th>\n",
       "      <td>0</td>\n",
       "      <td>34</td>\n",
       "      <td>111.611369</td>\n",
       "      <td>155.452030</td>\n",
       "      <td>4</td>\n",
       "      <td>2</td>\n",
       "      <td>2.313658</td>\n",
       "      <td>9.25463</td>\n",
       "      <td>2.409467</td>\n",
       "      <td>([2.4016830801963804, 2.4079100108146667],)</td>\n",
       "      <td>...</td>\n",
       "      <td>2013-06-19 20:05:00</td>\n",
       "      <td>2013-06-19 20:05:00</td>\n",
       "      <td>392.611369</td>\n",
       "      <td>436.452030</td>\n",
       "      <td>196555.684682</td>\n",
       "      <td>392.611369</td>\n",
       "      <td>30.126871</td>\n",
       "      <td>-94.087317</td>\n",
       "      <td>218476.015240</td>\n",
       "      <td>436.452030</td>\n",
       "    </tr>\n",
       "    <tr>\n",
       "      <th>4</th>\n",
       "      <td>0</td>\n",
       "      <td>35</td>\n",
       "      <td>111.765231</td>\n",
       "      <td>164.938866</td>\n",
       "      <td>8</td>\n",
       "      <td>2</td>\n",
       "      <td>2.610886</td>\n",
       "      <td>20.887089</td>\n",
       "      <td>3.081343</td>\n",
       "      <td>([2.995926022529602, 3.064259362220764],)</td>\n",
       "      <td>...</td>\n",
       "      <td>2013-06-19 20:05:00</td>\n",
       "      <td>2013-06-19 20:05:00</td>\n",
       "      <td>392.765231</td>\n",
       "      <td>445.938866</td>\n",
       "      <td>196632.615461</td>\n",
       "      <td>392.765231</td>\n",
       "      <td>30.127221</td>\n",
       "      <td>-94.037226</td>\n",
       "      <td>223219.433218</td>\n",
       "      <td>445.938866</td>\n",
       "    </tr>\n",
       "  </tbody>\n",
       "</table>\n",
       "<p>5 rows × 21 columns</p>\n",
       "</div>"
      ],
      "text/plain": [
       "   frame  idx      hdim_1      hdim_2  num  threshold_value mean_precip  \\\n",
       "0      0    1   50.065727  139.857477    9                1    1.241012   \n",
       "1      0   15  120.527119  172.500325    4                1     1.25016   \n",
       "2      0   18  126.779273  145.368401   15                1    1.564113   \n",
       "3      0   34  111.611369  155.452030    4                2    2.313658   \n",
       "4      0   35  111.765231  164.938866    8                2    2.610886   \n",
       "\n",
       "  total_precip max_precip                                  percentiles  ...  \\\n",
       "0    11.169106   1.528488  ([1.4821563005447387, 1.5192213106155394],)  ...   \n",
       "1     5.000638   1.267255    ([1.266197031736374, 1.267043651342392],)  ...   \n",
       "2    23.461691   2.321664    ([2.268769121170044, 2.311084909439087],)  ...   \n",
       "3      9.25463   2.409467  ([2.4016830801963804, 2.4079100108146667],)  ...   \n",
       "4    20.887089   3.081343    ([2.995926022529602, 3.064259362220764],)  ...   \n",
       "\n",
       "                  time              timestr south_north   west_east  \\\n",
       "0  2013-06-19 20:05:00  2013-06-19 20:05:00  331.065727  420.857477   \n",
       "1  2013-06-19 20:05:00  2013-06-19 20:05:00  401.527119  453.500325   \n",
       "2  2013-06-19 20:05:00  2013-06-19 20:05:00  407.779273  426.368401   \n",
       "3  2013-06-19 20:05:00  2013-06-19 20:05:00  392.611369  436.452030   \n",
       "4  2013-06-19 20:05:00  2013-06-19 20:05:00  392.765231  445.938866   \n",
       "\n",
       "   projection_y_coordinate           y   latitude  longitude  \\\n",
       "0            165782.863285  331.065727  29.846362 -94.172015   \n",
       "1            201013.559414  401.527119  30.166929 -93.996892   \n",
       "2            204139.636582  407.779273  30.196499 -94.139960   \n",
       "3            196555.684682  392.611369  30.126871 -94.087317   \n",
       "4            196632.615461  392.765231  30.127221 -94.037226   \n",
       "\n",
       "   projection_x_coordinate           x  \n",
       "0            210678.738492  420.857477  \n",
       "1            227000.162468  453.500325  \n",
       "2            213434.200454  426.368401  \n",
       "3            218476.015240  436.452030  \n",
       "4            223219.433218  445.938866  \n",
       "\n",
       "[5 rows x 21 columns]"
      ]
     },
     "execution_count": 13,
     "metadata": {},
     "output_type": "execute_result"
    }
   ],
   "source": [
    "Features.head()"
   ]
  },
  {
   "cell_type": "code",
   "execution_count": null,
   "metadata": {},
   "outputs": [],
   "source": []
  }
 ],
 "metadata": {
  "language_info": {
   "codemirror_mode": {
    "name": "ipython",
    "version": 3
   },
   "file_extension": ".py",
   "mimetype": "text/x-python",
   "name": "python",
   "nbconvert_exporter": "python",
   "pygments_lexer": "ipython3",
   "version": "3.11.8"
  }
 },
 "nbformat": 4,
 "nbformat_minor": 4
}
